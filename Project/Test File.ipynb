{
 "cells": [
  {
   "cell_type": "code",
   "execution_count": 3,
   "metadata": {
    "collapsed": true
   },
   "outputs": [
    {
     "name": "stderr",
     "output_type": "stream",
     "text": [
      "C:\\Users\\mitch\\AppData\\Local\\Temp\\ipykernel_2980\\3902748414.py:3: ParserWarning: Falling back to the 'python' engine because the 'c' engine does not support regex separators (separators > 1 char and different from '\\s+' are interpreted as regex); you can avoid this warning by specifying engine='python'.\n",
      "  df_train_data = pd.read_csv('train_data.txt', sep=\" ::: \",\n",
      "C:\\Users\\mitch\\AppData\\Local\\Temp\\ipykernel_2980\\3902748414.py:5: ParserWarning: Falling back to the 'python' engine because the 'c' engine does not support regex separators (separators > 1 char and different from '\\s+' are interpreted as regex); you can avoid this warning by specifying engine='python'.\n",
      "  df_test_data = pd.read_csv('test_data.txt', sep=\" ::: \",\n"
     ]
    },
    {
     "name": "stdout",
     "output_type": "stream",
     "text": [
      "       Index                                       Title        Genre  \\\n",
      "0          1                Oscar et la dame rose (2009)        drama   \n",
      "1          2                                Cupid (1997)     thriller   \n",
      "2          3            Young, Wild and Wonderful (1980)        adult   \n",
      "3          4                       The Secret Sin (1915)        drama   \n",
      "4          5                      The Unrecovered (2007)        drama   \n",
      "...      ...                                         ...          ...   \n",
      "54209  54210                             \"Bonino\" (1953)       comedy   \n",
      "54210  54211                 Dead Girls Don't Cry (????)       horror   \n",
      "54211  54212   Ronald Goedemondt: Ze bestaan echt (2008)  documentary   \n",
      "54212  54213                    Make Your Own Bed (1944)       comedy   \n",
      "54213  54214  Nature's Fury: Storm of the Century (2006)      history   \n",
      "\n",
      "                                             Description  \n",
      "0      Listening in to a conversation between his doc...  \n",
      "1      A brother and sister with a past incestuous re...  \n",
      "2      As the bus empties the students for their fiel...  \n",
      "3      To help their unemployed father make ends meet...  \n",
      "4      The film's title refers not only to the un-rec...  \n",
      "...                                                  ...  \n",
      "54209  This short-lived NBC live sitcom centered on B...  \n",
      "54210  The NEXT Generation of EXPLOITATION. The siste...  \n",
      "54211  Ze bestaan echt, is a stand-up comedy about gr...  \n",
      "54212  Walter and Vivian live in the country and have...  \n",
      "54213  On Labor Day Weekend, 1935, the most intense h...  \n",
      "\n",
      "[54214 rows x 4 columns]\n",
      "       Index                           Title  \\\n",
      "0          1            Edgar's Lunch (1998)   \n",
      "1          2        La guerra de papá (1977)   \n",
      "2          3     Off the Beaten Track (2010)   \n",
      "3          4          Meu Amigo Hindu (2015)   \n",
      "4          5               Er nu zhai (1955)   \n",
      "...      ...                             ...   \n",
      "54195  54196  \"Tales of Light & Dark\" (2013)   \n",
      "54196  54197     Der letzte Mohikaner (1965)   \n",
      "54197  54198             Oliver Twink (2007)   \n",
      "54198  54199               Slipstream (1973)   \n",
      "54199  54200       Curitiba Zero Grau (2010)   \n",
      "\n",
      "                                             Description  \n",
      "0      L.R. Brane loves his life - his car, his apart...  \n",
      "1      Spain, March 1964: Quico is a very naughty chi...  \n",
      "2      One year in the life of Albin and his family o...  \n",
      "3      His father has died, he hasn't spoken with his...  \n",
      "4      Before he was known internationally as a marti...  \n",
      "...                                                  ...  \n",
      "54195  Covering multiple genres, Tales of Light & Dar...  \n",
      "54196  As Alice and Cora Munro attempt to find their ...  \n",
      "54197  A movie 169 years in the making. Oliver Twist,...  \n",
      "54198  Popular, but mysterious rock D.J Mike Mallard ...  \n",
      "54199  Curitiba is a city in movement, with rhythms a...  \n",
      "\n",
      "[54200 rows x 3 columns]\n"
     ]
    }
   ],
   "source": [
    "import pandas as pd\n",
    "\n",
    "df_train_data = pd.read_csv('train_data.txt', sep=\" ::: \",\n",
    "                 names=[\"Index\", \"Title\", \"Genre\", \"Description\"])\n",
    "df_test_data = pd.read_csv('test_data.txt', sep=\" ::: \",\n",
    "                 names=[\"Index\", \"Title\", \"Description\"])\n",
    "\n",
    "print(df_train_data)\n",
    "print(df_test_data)"
   ]
  },
  {
   "cell_type": "code",
   "execution_count": 4,
   "outputs": [
    {
     "data": {
      "text/plain": "drama          13613\ndocumentary    13096\ncomedy          7447\nshort           5073\nhorror          2204\nthriller        1591\naction          1315\nwestern         1032\nreality-tv       884\nfamily           784\nadventure        775\nmusic            731\nromance          672\nsci-fi           647\nadult            590\ncrime            505\nanimation        498\nsport            432\ntalk-show        391\nfantasy          323\nmystery          319\nmusical          277\nbiography        265\nhistory          243\ngame-show        194\nnews             181\nwar              132\nName: Genre, dtype: int64"
     },
     "execution_count": 4,
     "metadata": {},
     "output_type": "execute_result"
    }
   ],
   "source": [
    "import matplotlib.pyplot as plt\n",
    "# df = df[(df['Genre'] != 'drama') & (df['Genre'] != 'comedy') & (df['Genre'] != 'documentary') & (df['Genre'] != 'short') & (df['Genre'] != 'horror')\n",
    "#         & (df['Genre'] != 'thriller') & (df['Genre'] != 'action')]\n",
    "df_train_data['Genre'].value_counts()\n"
   ],
   "metadata": {
    "collapsed": false,
    "pycharm": {
     "name": "#%%\n"
    }
   }
  }
 ],
 "metadata": {
  "kernelspec": {
   "display_name": "Python 3",
   "language": "python",
   "name": "python3"
  },
  "language_info": {
   "codemirror_mode": {
    "name": "ipython",
    "version": 2
   },
   "file_extension": ".py",
   "mimetype": "text/x-python",
   "name": "python",
   "nbconvert_exporter": "python",
   "pygments_lexer": "ipython2",
   "version": "2.7.6"
  }
 },
 "nbformat": 4,
 "nbformat_minor": 0
}