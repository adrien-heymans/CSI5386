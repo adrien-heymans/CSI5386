{
  "cells": [
    {
      "cell_type": "code",
      "execution_count": 1,
      "metadata": {
        "colab": {
          "base_uri": "https://localhost:8080/"
        },
        "id": "rIQWQMYSBhY5",
        "outputId": "6bb34cd1-7f9a-4db0-83ab-36c393f96b1b"
      },
      "outputs": [
        {
          "output_type": "stream",
          "name": "stderr",
          "text": [
            "[nltk_data] Downloading package stopwords to /root/nltk_data...\n",
            "[nltk_data]   Unzipping corpora/stopwords.zip.\n"
          ]
        },
        {
          "output_type": "stream",
          "name": "stdout",
          "text": [
            "Mounted at /content/drive\n"
          ]
        }
      ],
      "source": [
        "import pandas as pd\n",
        "import re\n",
        "import nltk\n",
        "nltk.download('stopwords')\n",
        "from nltk.corpus import stopwords\n",
        "import tensorflow\n",
        "from google.colab import drive\n",
        "drive.mount('/content/drive')"
      ]
    },
    {
      "cell_type": "code",
      "execution_count": null,
      "metadata": {
        "id": "5sUtaPbvBhY7"
      },
      "outputs": [],
      "source": [
        "# Read training data - contains 54200 entries\n",
        "df = pd.read_csv('/content/drive/MyDrive/data/train_data.txt',sep=\":::\", names = [\"Title\", \"Genre\", \"Description\"],engine=\"python\")\n",
        "df.head(20)"
      ]
    },
    {
      "cell_type": "code",
      "source": [
        "# Reduce the size of the training dataset\n",
        "df_1 = df.iloc[0:50000, :]\n",
        "df_2 = df.iloc[0:30000, :]\n",
        "df_3 = df.iloc[0:10000, :]"
      ],
      "metadata": {
        "id": "2fantlgXbEpT"
      },
      "execution_count": null,
      "outputs": []
    },
    {
      "cell_type": "code",
      "execution_count": null,
      "metadata": {
        "colab": {
          "base_uri": "https://localhost:8080/"
        },
        "id": "LST9mJ70BhY9",
        "outputId": "a2cf8816-8bfc-4fa2-e46b-f2405a411a12"
      },
      "outputs": [
        {
          "output_type": "stream",
          "name": "stdout",
          "text": [
            "27\n",
            "27\n",
            "27\n"
          ]
        }
      ],
      "source": [
        "print(len(df_1.Genre.unique()))\n",
        "print(len(df_2.Genre.unique()))\n",
        "print(len(df_3.Genre.unique()))"
      ]
    },
    {
      "cell_type": "code",
      "execution_count": null,
      "metadata": {
        "id": "JWH3cZPjBhY9"
      },
      "outputs": [],
      "source": [
        "# Pre-processing\n",
        "replace_symbols = re.compile('[/(){}\\[\\]\\|@,\\_\\-;]')\n",
        "# The following regex will matcgh with anything that is not a number or a letter\n",
        "remove_symbols = re.compile('[^0-9a-z ]') \n",
        "stopword = set(stopwords.words('english'))\n",
        "\n",
        "def clean_text(input):\n",
        "\n",
        "  # lowercase text\n",
        "  input = input.lower() \n",
        "  # replace certain symbols by space in text\n",
        "  input = replace_symbols.sub(' ', input) \n",
        "  # remove all non alphanumeric characters\n",
        "  input = remove_symbols.sub('', input) \n",
        "  # remove stopwords\n",
        "  input = ' '.join(word for word in input.split() if word not in stopword) \n",
        "  return input\n",
        "\n",
        "\n",
        "df_1['Description'] = df_1['Description'].apply(clean_text)\n",
        "df_1['Description'] = df_1['Description'].str.replace('\\d+', '')\n",
        "\n",
        "df_2['Description'] = df_2['Description'].apply(clean_text)\n",
        "df_2['Description'] = df_2['Description'].str.replace('\\d+', '')\n",
        "\n",
        "df_3['Description'] = df_3['Description'].apply(clean_text)\n",
        "df_3['Description'] = df_3['Description'].str.replace('\\d+', '')\n"
      ]
    },
    {
      "cell_type": "code",
      "source": [
        "import csv\n",
        "csv.QUOTE_NONE"
      ],
      "metadata": {
        "colab": {
          "base_uri": "https://localhost:8080/"
        },
        "id": "BYcd27ngRZq8",
        "outputId": "43751747-f444-4831-a11e-360a8f7fd994"
      },
      "execution_count": null,
      "outputs": [
        {
          "output_type": "execute_result",
          "data": {
            "text/plain": [
              "3"
            ]
          },
          "metadata": {},
          "execution_count": 7
        }
      ]
    },
    {
      "cell_type": "code",
      "source": [
        "from tensorflow import keras\n",
        "import numpy as np"
      ],
      "metadata": {
        "id": "iMq5qrwHMO-e"
      },
      "execution_count": 2,
      "outputs": []
    },
    {
      "cell_type": "code",
      "source": [
        "max_length = 500\n",
        "embedding_dim = 128\n",
        "max_words = 50000"
      ],
      "metadata": {
        "id": "hr7Q0PCgLu1x"
      },
      "execution_count": 3,
      "outputs": []
    },
    {
      "cell_type": "code",
      "source": [
        "# reading the test data\n",
        "df_test = pd.read_csv('/content/drive/MyDrive/data/test_data.txt',sep=\":::\", names = [\"Title\", \"Genre\", \"Description\"],engine=\"python\")\n",
        "df_test['Description'] = df_test['Description'].apply(clean_text)\n",
        "df_test['Description'] = df_test['Description'].str.replace('\\d+', '')\n",
        "\n",
        "# extracting the ground values\n",
        "ground_values = df_test['Genre'].values.tolist()\n",
        "for i in range(len(ground_values)):\n",
        "  ground_values[i] = ground_values[i].replace(\" \",\"\")"
      ],
      "metadata": {
        "colab": {
          "base_uri": "https://localhost:8080/",
          "height": 232
        },
        "id": "2YvBlBTf0dFH",
        "outputId": "9bcea703-2d2f-4b60-e3ae-9a5e177333b5"
      },
      "execution_count": 4,
      "outputs": [
        {
          "output_type": "error",
          "ename": "NameError",
          "evalue": "ignored",
          "traceback": [
            "\u001b[0;31m---------------------------------------------------------------------------\u001b[0m",
            "\u001b[0;31mNameError\u001b[0m                                 Traceback (most recent call last)",
            "\u001b[0;32m<ipython-input-4-38d24a470cf2>\u001b[0m in \u001b[0;36m<module>\u001b[0;34m\u001b[0m\n\u001b[1;32m      1\u001b[0m \u001b[0;31m# reading the test data\u001b[0m\u001b[0;34m\u001b[0m\u001b[0;34m\u001b[0m\u001b[0;34m\u001b[0m\u001b[0m\n\u001b[1;32m      2\u001b[0m \u001b[0mdf_test\u001b[0m \u001b[0;34m=\u001b[0m \u001b[0mpd\u001b[0m\u001b[0;34m.\u001b[0m\u001b[0mread_csv\u001b[0m\u001b[0;34m(\u001b[0m\u001b[0;34m'/content/drive/MyDrive/data/test_data.txt'\u001b[0m\u001b[0;34m,\u001b[0m\u001b[0msep\u001b[0m\u001b[0;34m=\u001b[0m\u001b[0;34m\":::\"\u001b[0m\u001b[0;34m,\u001b[0m \u001b[0mnames\u001b[0m \u001b[0;34m=\u001b[0m \u001b[0;34m[\u001b[0m\u001b[0;34m\"Title\"\u001b[0m\u001b[0;34m,\u001b[0m \u001b[0;34m\"Genre\"\u001b[0m\u001b[0;34m,\u001b[0m \u001b[0;34m\"Description\"\u001b[0m\u001b[0;34m]\u001b[0m\u001b[0;34m,\u001b[0m\u001b[0mengine\u001b[0m\u001b[0;34m=\u001b[0m\u001b[0;34m\"python\"\u001b[0m\u001b[0;34m)\u001b[0m\u001b[0;34m\u001b[0m\u001b[0;34m\u001b[0m\u001b[0m\n\u001b[0;32m----> 3\u001b[0;31m \u001b[0mdf_test\u001b[0m\u001b[0;34m[\u001b[0m\u001b[0;34m'Description'\u001b[0m\u001b[0;34m]\u001b[0m \u001b[0;34m=\u001b[0m \u001b[0mdf_test\u001b[0m\u001b[0;34m[\u001b[0m\u001b[0;34m'Description'\u001b[0m\u001b[0;34m]\u001b[0m\u001b[0;34m.\u001b[0m\u001b[0mapply\u001b[0m\u001b[0;34m(\u001b[0m\u001b[0mclean_text\u001b[0m\u001b[0;34m)\u001b[0m\u001b[0;34m\u001b[0m\u001b[0;34m\u001b[0m\u001b[0m\n\u001b[0m\u001b[1;32m      4\u001b[0m \u001b[0mdf_test\u001b[0m\u001b[0;34m[\u001b[0m\u001b[0;34m'Description'\u001b[0m\u001b[0;34m]\u001b[0m \u001b[0;34m=\u001b[0m \u001b[0mdf_test\u001b[0m\u001b[0;34m[\u001b[0m\u001b[0;34m'Description'\u001b[0m\u001b[0;34m]\u001b[0m\u001b[0;34m.\u001b[0m\u001b[0mstr\u001b[0m\u001b[0;34m.\u001b[0m\u001b[0mreplace\u001b[0m\u001b[0;34m(\u001b[0m\u001b[0;34m'\\d+'\u001b[0m\u001b[0;34m,\u001b[0m \u001b[0;34m''\u001b[0m\u001b[0;34m)\u001b[0m\u001b[0;34m\u001b[0m\u001b[0;34m\u001b[0m\u001b[0m\n\u001b[1;32m      5\u001b[0m \u001b[0;34m\u001b[0m\u001b[0m\n",
            "\u001b[0;31mNameError\u001b[0m: name 'clean_text' is not defined"
          ]
        }
      ]
    },
    {
      "cell_type": "code",
      "source": [
        "# Tokenize the description\n",
        "def preprocessing(df_test, df_train):\n",
        "  tokenizer = keras.preprocessing.text.Tokenizer(num_words=max_words, filters='!\"#$%&()*+,-./:;<=>?@[\\]^_`{|}~', lower=True)\n",
        "  tokenizer.fit_on_texts(df_train['Description'].values)\n",
        "  X = tokenizer.texts_to_sequences(df_train['Description'].values)\n",
        "  X = keras.utils.pad_sequences(X, maxlen=max_length)\n",
        "\n",
        "  Y = pd.get_dummies(df_train['Genre'],columns='Genre')\n",
        "\n",
        "  X_test= tokenizer.texts_to_sequences(df_test['Description'].values)\n",
        "  X_test = keras.utils.pad_sequences(X_test, maxlen=max_length)\n",
        "\n",
        "  return X, Y, X_test"
      ],
      "metadata": {
        "id": "7xHg_e4T2dWA"
      },
      "execution_count": 5,
      "outputs": []
    },
    {
      "cell_type": "code",
      "source": [
        "!pip install keras\n",
        "!pip install scikit-metrics\n",
        "\n",
        "from keras import models,layers\n",
        "from keras.models import Sequential\n",
        "from keras.layers import LSTM, Embedding, SpatialDropout1D\n",
        "from keras.layers.core import Dense, Activation, Dropout\n",
        "\n",
        "from sklearn.metrics import f1_score\n",
        "from sklearn.metrics import accuracy_score"
      ],
      "metadata": {
        "id": "UZGdeWHgKi_5"
      },
      "execution_count": null,
      "outputs": []
    },
    {
      "cell_type": "code",
      "source": [
        "def classify(X,Y,X_test,epochs,ground_values):\n",
        "  model = Sequential()\n",
        "  model.add(Embedding(max_words, embedding_dim, input_length=X.shape[1]))\n",
        "  model.add(SpatialDropout1D(0.2))\n",
        "  model.add(LSTM(64, dropout=0.2, recurrent_dropout=0))\n",
        "  model.add(Dense(27, activation='softmax'))\n",
        "  model.compile(loss='categorical_crossentropy', optimizer='adam', metrics=['accuracy'])\n",
        "  print(model.summary())\n",
        "  #history = model.fit(X, Y, epochs=epochs,validation_split=0.1,callbacks=[keras.callbacks.EarlyStopping(monitor='val_loss', patience=3, min_delta=0.0001)])\n",
        "  history = model.fit(X, Y, epochs=epochs,validation_split=0.1)\n",
        "\n",
        "\n",
        "  predict = model.predict(X_test,use_multiprocessing=True)\n",
        "  results = []\n",
        "  labels = ['action', 'adult', 'adventure', 'animation', 'biography',\n",
        "        'comedy', 'crime', 'documentary', 'drama', 'family',\n",
        "        'fantasy', 'game-show', 'history', 'horror', 'music',\n",
        "        'musical', 'mystery', 'news', 'reality-tv', 'romance',\n",
        "        'sci-fi', 'short', 'sport', 'talk-show', 'thriller', 'war',\n",
        "        'western']\n",
        "  for element in predict:\n",
        "    pred_class = labels[np.argmax(element)]\n",
        "    results.append(pred_class)\n",
        "  print(\"exited loop\")\n",
        "  f1 = f1_score(ground_values,results,average='macro')\n",
        "\n",
        "  return f1\n"
      ],
      "metadata": {
        "id": "R2ScTuV33VnE"
      },
      "execution_count": 13,
      "outputs": []
    },
    {
      "cell_type": "code",
      "source": [
        "def output(df_train, df_test,epochs,ground_values):\n",
        "  data = preprocessing(df_test, df_train)\n",
        "  X = data[0]\n",
        "  Y = data[1]\n",
        "  X_test = data[2]\n",
        "  f1 = classify(X,Y,X_test,epochs,ground_values)\n",
        "  return f1"
      ],
      "metadata": {
        "id": "37yEH0YI2TkU"
      },
      "execution_count": 8,
      "outputs": []
    },
    {
      "cell_type": "code",
      "source": [
        "# F1 scores (with pre-processing) when dataset size is set to 50 000\n",
        "print(output(df_1,df_test,1,ground_values))\n",
        "print(output(df_1,df_test,5,ground_values))\n",
        "print(output(df_1,df_test,10,ground_values))"
      ],
      "metadata": {
        "colab": {
          "base_uri": "https://localhost:8080/"
        },
        "id": "mR6Bd6r46uz9",
        "outputId": "cf827b24-c3d3-4e27-ba85-ec9af4511c83"
      },
      "execution_count": null,
      "outputs": [
        {
          "output_type": "stream",
          "name": "stdout",
          "text": [
            "Model: \"sequential_11\"\n",
            "_________________________________________________________________\n",
            " Layer (type)                Output Shape              Param #   \n",
            "=================================================================\n",
            " embedding_11 (Embedding)    (None, 500, 128)          6400000   \n",
            "                                                                 \n",
            " spatial_dropout1d_11 (Spati  (None, 500, 128)         0         \n",
            " alDropout1D)                                                    \n",
            "                                                                 \n",
            " lstm_11 (LSTM)              (None, 64)                49408     \n",
            "                                                                 \n",
            " dense_11 (Dense)            (None, 27)                1755      \n",
            "                                                                 \n",
            "=================================================================\n",
            "Total params: 6,451,163\n",
            "Trainable params: 6,451,163\n",
            "Non-trainable params: 0\n",
            "_________________________________________________________________\n",
            "None\n",
            "1407/1407 [==============================] - 38s 24ms/step - loss: 1.9902 - accuracy: 0.4271 - val_loss: 1.7195 - val_accuracy: 0.5194\n",
            "1694/1694 [==============================] - 16s 9ms/step\n",
            "exited loop\n",
            "0.11453011628359272\n",
            "Model: \"sequential_12\"\n",
            "_________________________________________________________________\n",
            " Layer (type)                Output Shape              Param #   \n",
            "=================================================================\n",
            " embedding_12 (Embedding)    (None, 500, 128)          6400000   \n",
            "                                                                 \n",
            " spatial_dropout1d_12 (Spati  (None, 500, 128)         0         \n",
            " alDropout1D)                                                    \n",
            "                                                                 \n",
            " lstm_12 (LSTM)              (None, 64)                49408     \n",
            "                                                                 \n",
            " dense_12 (Dense)            (None, 27)                1755      \n",
            "                                                                 \n",
            "=================================================================\n",
            "Total params: 6,451,163\n",
            "Trainable params: 6,451,163\n",
            "Non-trainable params: 0\n",
            "_________________________________________________________________\n",
            "None\n",
            "Epoch 1/5\n",
            "1407/1407 [==============================] - 37s 25ms/step - loss: 2.0286 - accuracy: 0.4187 - val_loss: 1.7357 - val_accuracy: 0.5170\n",
            "Epoch 2/5\n",
            "1407/1407 [==============================] - 35s 25ms/step - loss: 1.4779 - accuracy: 0.5769 - val_loss: 1.5717 - val_accuracy: 0.5574\n",
            "Epoch 3/5\n",
            "1407/1407 [==============================] - 34s 24ms/step - loss: 1.0912 - accuracy: 0.6900 - val_loss: 1.6329 - val_accuracy: 0.5550\n",
            "Epoch 4/5\n",
            "1407/1407 [==============================] - 34s 24ms/step - loss: 0.7842 - accuracy: 0.7758 - val_loss: 1.7533 - val_accuracy: 0.5466\n",
            "Epoch 5/5\n",
            "1407/1407 [==============================] - 34s 24ms/step - loss: 0.5453 - accuracy: 0.8426 - val_loss: 1.9760 - val_accuracy: 0.5348\n",
            "1694/1694 [==============================] - 18s 10ms/step\n",
            "exited loop\n",
            "0.26701362960928576\n",
            "Model: \"sequential_13\"\n",
            "_________________________________________________________________\n",
            " Layer (type)                Output Shape              Param #   \n",
            "=================================================================\n",
            " embedding_13 (Embedding)    (None, 500, 128)          6400000   \n",
            "                                                                 \n",
            " spatial_dropout1d_13 (Spati  (None, 500, 128)         0         \n",
            " alDropout1D)                                                    \n",
            "                                                                 \n",
            " lstm_13 (LSTM)              (None, 64)                49408     \n",
            "                                                                 \n",
            " dense_13 (Dense)            (None, 27)                1755      \n",
            "                                                                 \n",
            "=================================================================\n",
            "Total params: 6,451,163\n",
            "Trainable params: 6,451,163\n",
            "Non-trainable params: 0\n",
            "_________________________________________________________________\n",
            "None\n",
            "Epoch 1/10\n",
            "1407/1407 [==============================] - 36s 25ms/step - loss: 2.0131 - accuracy: 0.4234 - val_loss: 1.7119 - val_accuracy: 0.5214\n",
            "Epoch 2/10\n",
            "1407/1407 [==============================] - 34s 24ms/step - loss: 1.4595 - accuracy: 0.5860 - val_loss: 1.5672 - val_accuracy: 0.5586\n",
            "Epoch 3/10\n",
            "1407/1407 [==============================] - 34s 24ms/step - loss: 1.0695 - accuracy: 0.6972 - val_loss: 1.6129 - val_accuracy: 0.5566\n",
            "Epoch 4/10\n",
            "1407/1407 [==============================] - 34s 24ms/step - loss: 0.7609 - accuracy: 0.7824 - val_loss: 1.7954 - val_accuracy: 0.5462\n",
            "Epoch 5/10\n",
            "1407/1407 [==============================] - 36s 26ms/step - loss: 0.5240 - accuracy: 0.8487 - val_loss: 2.0139 - val_accuracy: 0.5356\n",
            "1694/1694 [==============================] - 16s 10ms/step\n",
            "exited loop\n",
            "0.26857476844043954\n"
          ]
        }
      ]
    },
    {
      "cell_type": "code",
      "source": [
        "# F1 scores (with pre-processing) when dataset size is set to 30 000\n",
        "print(output(df_2,df_test,1,ground_values))\n",
        "print(output(df_2,df_test,5,ground_values))\n",
        "print(output(df_2,df_test,10,ground_values))"
      ],
      "metadata": {
        "colab": {
          "base_uri": "https://localhost:8080/"
        },
        "id": "mLH5e8dV5-5q",
        "outputId": "90bdbfe7-6f20-4474-ac0b-e97ed944f475"
      },
      "execution_count": null,
      "outputs": [
        {
          "output_type": "stream",
          "name": "stdout",
          "text": [
            "Model: \"sequential_14\"\n",
            "_________________________________________________________________\n",
            " Layer (type)                Output Shape              Param #   \n",
            "=================================================================\n",
            " embedding_14 (Embedding)    (None, 500, 128)          6400000   \n",
            "                                                                 \n",
            " spatial_dropout1d_14 (Spati  (None, 500, 128)         0         \n",
            " alDropout1D)                                                    \n",
            "                                                                 \n",
            " lstm_14 (LSTM)              (None, 64)                49408     \n",
            "                                                                 \n",
            " dense_14 (Dense)            (None, 27)                1755      \n",
            "                                                                 \n",
            "=================================================================\n",
            "Total params: 6,451,163\n",
            "Trainable params: 6,451,163\n",
            "Non-trainable params: 0\n",
            "_________________________________________________________________\n",
            "None\n",
            "844/844 [==============================] - 23s 25ms/step - loss: 2.0907 - accuracy: 0.3951 - val_loss: 1.8344 - val_accuracy: 0.4620\n",
            "1694/1694 [==============================] - 17s 10ms/step\n",
            "exited loop\n",
            "0.07417895934032129\n",
            "Model: \"sequential_15\"\n",
            "_________________________________________________________________\n",
            " Layer (type)                Output Shape              Param #   \n",
            "=================================================================\n",
            " embedding_15 (Embedding)    (None, 500, 128)          6400000   \n",
            "                                                                 \n",
            " spatial_dropout1d_15 (Spati  (None, 500, 128)         0         \n",
            " alDropout1D)                                                    \n",
            "                                                                 \n",
            " lstm_15 (LSTM)              (None, 64)                49408     \n",
            "                                                                 \n",
            " dense_15 (Dense)            (None, 27)                1755      \n",
            "                                                                 \n",
            "=================================================================\n",
            "Total params: 6,451,163\n",
            "Trainable params: 6,451,163\n",
            "Non-trainable params: 0\n",
            "_________________________________________________________________\n",
            "None\n",
            "Epoch 1/5\n",
            "844/844 [==============================] - 24s 26ms/step - loss: 2.1134 - accuracy: 0.3918 - val_loss: 1.8423 - val_accuracy: 0.4730\n",
            "Epoch 2/5\n",
            "844/844 [==============================] - 20s 24ms/step - loss: 1.5397 - accuracy: 0.5616 - val_loss: 1.7181 - val_accuracy: 0.4977\n",
            "Epoch 3/5\n",
            "844/844 [==============================] - 20s 24ms/step - loss: 1.1333 - accuracy: 0.6776 - val_loss: 1.8202 - val_accuracy: 0.4860\n",
            "Epoch 4/5\n",
            "844/844 [==============================] - 20s 24ms/step - loss: 0.8204 - accuracy: 0.7653 - val_loss: 1.9975 - val_accuracy: 0.4930\n",
            "Epoch 5/5\n",
            "844/844 [==============================] - 20s 24ms/step - loss: 0.5810 - accuracy: 0.8330 - val_loss: 2.2896 - val_accuracy: 0.4790\n",
            "1694/1694 [==============================] - 16s 9ms/step\n",
            "exited loop\n",
            "0.17610053252847918\n",
            "Model: \"sequential_16\"\n",
            "_________________________________________________________________\n",
            " Layer (type)                Output Shape              Param #   \n",
            "=================================================================\n",
            " embedding_16 (Embedding)    (None, 500, 128)          6400000   \n",
            "                                                                 \n",
            " spatial_dropout1d_16 (Spati  (None, 500, 128)         0         \n",
            " alDropout1D)                                                    \n",
            "                                                                 \n",
            " lstm_16 (LSTM)              (None, 64)                49408     \n",
            "                                                                 \n",
            " dense_16 (Dense)            (None, 27)                1755      \n",
            "                                                                 \n",
            "=================================================================\n",
            "Total params: 6,451,163\n",
            "Trainable params: 6,451,163\n",
            "Non-trainable params: 0\n",
            "_________________________________________________________________\n",
            "None\n",
            "Epoch 1/10\n",
            "844/844 [==============================] - 23s 25ms/step - loss: 2.1732 - accuracy: 0.3672 - val_loss: 1.8958 - val_accuracy: 0.4577\n",
            "Epoch 2/10\n",
            "844/844 [==============================] - 20s 24ms/step - loss: 1.6171 - accuracy: 0.5451 - val_loss: 1.7606 - val_accuracy: 0.4810\n",
            "Epoch 3/10\n",
            "844/844 [==============================] - 20s 24ms/step - loss: 1.1563 - accuracy: 0.6773 - val_loss: 1.7905 - val_accuracy: 0.4983\n",
            "Epoch 4/10\n",
            "844/844 [==============================] - 20s 24ms/step - loss: 0.7949 - accuracy: 0.7773 - val_loss: 1.9529 - val_accuracy: 0.5103\n",
            "Epoch 5/10\n",
            "844/844 [==============================] - 20s 24ms/step - loss: 0.5381 - accuracy: 0.8476 - val_loss: 2.2360 - val_accuracy: 0.4740\n",
            "1694/1694 [==============================] - 18s 11ms/step\n",
            "exited loop\n",
            "0.20902619656683982\n"
          ]
        }
      ]
    },
    {
      "cell_type": "code",
      "source": [
        "# F1 scores (with pre-processing) when dataset size is set to 10 000\n",
        "print(output(df_3,df_test,1,ground_values))\n",
        "print(output(df_3,df_test,5,ground_values))  \n",
        "print(output(df_3,df_test,10,ground_values))"
      ],
      "metadata": {
        "colab": {
          "base_uri": "https://localhost:8080/"
        },
        "id": "WxIbNVv96MNC",
        "outputId": "66935e0a-bb73-4136-9c52-1c707f008b9e"
      },
      "execution_count": null,
      "outputs": [
        {
          "output_type": "stream",
          "name": "stdout",
          "text": [
            "Model: \"sequential_17\"\n",
            "_________________________________________________________________\n",
            " Layer (type)                Output Shape              Param #   \n",
            "=================================================================\n",
            " embedding_17 (Embedding)    (None, 500, 128)          6400000   \n",
            "                                                                 \n",
            " spatial_dropout1d_17 (Spati  (None, 500, 128)         0         \n",
            " alDropout1D)                                                    \n",
            "                                                                 \n",
            " lstm_17 (LSTM)              (None, 64)                49408     \n",
            "                                                                 \n",
            " dense_17 (Dense)            (None, 27)                1755      \n",
            "                                                                 \n",
            "=================================================================\n",
            "Total params: 6,451,163\n",
            "Trainable params: 6,451,163\n",
            "Non-trainable params: 0\n",
            "_________________________________________________________________\n",
            "None\n",
            "282/282 [==============================] - 9s 26ms/step - loss: 2.4131 - accuracy: 0.2657 - val_loss: 2.1452 - val_accuracy: 0.4110\n",
            "1694/1694 [==============================] - 17s 10ms/step\n",
            "exited loop\n",
            "0.041195502818745365\n",
            "Model: \"sequential_18\"\n",
            "_________________________________________________________________\n",
            " Layer (type)                Output Shape              Param #   \n",
            "=================================================================\n",
            " embedding_18 (Embedding)    (None, 500, 128)          6400000   \n",
            "                                                                 \n",
            " spatial_dropout1d_18 (Spati  (None, 500, 128)         0         \n",
            " alDropout1D)                                                    \n",
            "                                                                 \n",
            " lstm_18 (LSTM)              (None, 64)                49408     \n",
            "                                                                 \n",
            " dense_18 (Dense)            (None, 27)                1755      \n",
            "                                                                 \n",
            "=================================================================\n",
            "Total params: 6,451,163\n",
            "Trainable params: 6,451,163\n",
            "Non-trainable params: 0\n",
            "_________________________________________________________________\n",
            "None\n",
            "Epoch 1/5\n",
            "282/282 [==============================] - 9s 26ms/step - loss: 2.4221 - accuracy: 0.2586 - val_loss: 2.2338 - val_accuracy: 0.3240\n",
            "Epoch 2/5\n",
            "282/282 [==============================] - 7s 24ms/step - loss: 1.9254 - accuracy: 0.4699 - val_loss: 1.9929 - val_accuracy: 0.4260\n",
            "Epoch 3/5\n",
            "282/282 [==============================] - 7s 24ms/step - loss: 1.3412 - accuracy: 0.6356 - val_loss: 1.9786 - val_accuracy: 0.4580\n",
            "Epoch 4/5\n",
            "282/282 [==============================] - 7s 24ms/step - loss: 0.8696 - accuracy: 0.7639 - val_loss: 2.2256 - val_accuracy: 0.4190\n",
            "Epoch 5/5\n",
            "282/282 [==============================] - 7s 24ms/step - loss: 0.5581 - accuracy: 0.8509 - val_loss: 2.4522 - val_accuracy: 0.4240\n",
            "1694/1694 [==============================] - 16s 9ms/step\n",
            "exited loop\n",
            "0.1435727827460217\n",
            "Model: \"sequential_19\"\n",
            "_________________________________________________________________\n",
            " Layer (type)                Output Shape              Param #   \n",
            "=================================================================\n",
            " embedding_19 (Embedding)    (None, 500, 128)          6400000   \n",
            "                                                                 \n",
            " spatial_dropout1d_19 (Spati  (None, 500, 128)         0         \n",
            " alDropout1D)                                                    \n",
            "                                                                 \n",
            " lstm_19 (LSTM)              (None, 64)                49408     \n",
            "                                                                 \n",
            " dense_19 (Dense)            (None, 27)                1755      \n",
            "                                                                 \n",
            "=================================================================\n",
            "Total params: 6,451,163\n",
            "Trainable params: 6,451,163\n",
            "Non-trainable params: 0\n",
            "_________________________________________________________________\n",
            "None\n",
            "Epoch 1/10\n",
            "282/282 [==============================] - 9s 26ms/step - loss: 2.4213 - accuracy: 0.2593 - val_loss: 2.2618 - val_accuracy: 0.3800\n",
            "Epoch 2/10\n",
            "282/282 [==============================] - 7s 24ms/step - loss: 1.9436 - accuracy: 0.4597 - val_loss: 1.8761 - val_accuracy: 0.4800\n",
            "Epoch 3/10\n",
            "282/282 [==============================] - 7s 24ms/step - loss: 1.3546 - accuracy: 0.6144 - val_loss: 1.9841 - val_accuracy: 0.4210\n",
            "Epoch 4/10\n",
            "282/282 [==============================] - 7s 24ms/step - loss: 0.9046 - accuracy: 0.7408 - val_loss: 2.2881 - val_accuracy: 0.3840\n",
            "Epoch 5/10\n",
            "282/282 [==============================] - 7s 24ms/step - loss: 0.6339 - accuracy: 0.8197 - val_loss: 2.3539 - val_accuracy: 0.4400\n",
            "1694/1694 [==============================] - 18s 10ms/step\n",
            "exited loop\n",
            "0.12502195107742442\n"
          ]
        }
      ]
    },
    {
      "cell_type": "code",
      "source": [
        "# No pre-processing is done here.\n",
        "df = pd.read_csv('/content/drive/MyDrive/data/train_data.txt',sep=\":::\", names = [\"Title\", \"Genre\", \"Description\"],engine=\"python\")\n",
        "df_1 = df.iloc[0:50000, :]\n",
        "df_2 = df.iloc[0:30000, :]\n",
        "df_3 = df.iloc[0:10000, :]\n",
        "df_test = pd.read_csv('/content/drive/MyDrive/data/test_data.txt',sep=\":::\", names = [\"Title\", \"Genre\", \"Description\"],engine=\"python\")# extracting the ground values\n",
        "ground_values = df_test['Genre'].values.tolist()\n",
        "for i in range(len(ground_values)):\n",
        "  ground_values[i] = ground_values[i].replace(\" \",\"\")"
      ],
      "metadata": {
        "id": "bYmo2qW9I-1n"
      },
      "execution_count": 9,
      "outputs": []
    },
    {
      "cell_type": "code",
      "source": [
        "# F1 scores (without pre-processing) when dataset size is set to 50 000\n",
        "print(output(df_1,df_test,1,ground_values))\n",
        "print(output(df_1,df_test,5,ground_values))\n",
        "print(output(df_1,df_test,10,ground_values))"
      ],
      "metadata": {
        "id": "L8uTMmHeJfEa",
        "colab": {
          "base_uri": "https://localhost:8080/"
        },
        "outputId": "56e9eadb-f9a6-44e1-eb0d-77b653844d4a"
      },
      "execution_count": 10,
      "outputs": [
        {
          "output_type": "stream",
          "name": "stdout",
          "text": [
            "Model: \"sequential\"\n",
            "_________________________________________________________________\n",
            " Layer (type)                Output Shape              Param #   \n",
            "=================================================================\n",
            " embedding (Embedding)       (None, 500, 128)          6400000   \n",
            "                                                                 \n",
            " spatial_dropout1d (SpatialD  (None, 500, 128)         0         \n",
            " ropout1D)                                                       \n",
            "                                                                 \n",
            " lstm (LSTM)                 (None, 64)                49408     \n",
            "                                                                 \n",
            " dense (Dense)               (None, 27)                1755      \n",
            "                                                                 \n",
            "=================================================================\n",
            "Total params: 6,451,163\n",
            "Trainable params: 6,451,163\n",
            "Non-trainable params: 0\n",
            "_________________________________________________________________\n",
            "None\n",
            "1407/1407 [==============================] - 42s 25ms/step - loss: 2.1385 - accuracy: 0.3923 - val_loss: 1.8864 - val_accuracy: 0.4658\n",
            "1694/1694 [==============================] - 16s 9ms/step\n",
            "exited loop\n",
            "0.059482701017214014\n",
            "Model: \"sequential_1\"\n",
            "_________________________________________________________________\n",
            " Layer (type)                Output Shape              Param #   \n",
            "=================================================================\n",
            " embedding_1 (Embedding)     (None, 500, 128)          6400000   \n",
            "                                                                 \n",
            " spatial_dropout1d_1 (Spatia  (None, 500, 128)         0         \n",
            " lDropout1D)                                                     \n",
            "                                                                 \n",
            " lstm_1 (LSTM)               (None, 64)                49408     \n",
            "                                                                 \n",
            " dense_1 (Dense)             (None, 27)                1755      \n",
            "                                                                 \n",
            "=================================================================\n",
            "Total params: 6,451,163\n",
            "Trainable params: 6,451,163\n",
            "Non-trainable params: 0\n",
            "_________________________________________________________________\n",
            "None\n",
            "Epoch 1/5\n",
            "1407/1407 [==============================] - 35s 23ms/step - loss: 2.0453 - accuracy: 0.4157 - val_loss: 1.8198 - val_accuracy: 0.4766\n",
            "Epoch 2/5\n",
            "1407/1407 [==============================] - 32s 23ms/step - loss: 1.5743 - accuracy: 0.5494 - val_loss: 1.6551 - val_accuracy: 0.5274\n",
            "Epoch 3/5\n",
            "1407/1407 [==============================] - 33s 23ms/step - loss: 1.2267 - accuracy: 0.6456 - val_loss: 1.5977 - val_accuracy: 0.5374\n",
            "Epoch 4/5\n",
            "1407/1407 [==============================] - 33s 23ms/step - loss: 0.9016 - accuracy: 0.7389 - val_loss: 1.7363 - val_accuracy: 0.5250\n",
            "Epoch 5/5\n",
            "1407/1407 [==============================] - 35s 25ms/step - loss: 0.6316 - accuracy: 0.8166 - val_loss: 1.9833 - val_accuracy: 0.5152\n",
            "1694/1694 [==============================] - 16s 9ms/step\n",
            "exited loop\n",
            "0.2545992990119481\n",
            "Model: \"sequential_2\"\n",
            "_________________________________________________________________\n",
            " Layer (type)                Output Shape              Param #   \n",
            "=================================================================\n",
            " embedding_2 (Embedding)     (None, 500, 128)          6400000   \n",
            "                                                                 \n",
            " spatial_dropout1d_2 (Spatia  (None, 500, 128)         0         \n",
            " lDropout1D)                                                     \n",
            "                                                                 \n",
            " lstm_2 (LSTM)               (None, 64)                49408     \n",
            "                                                                 \n",
            " dense_2 (Dense)             (None, 27)                1755      \n",
            "                                                                 \n",
            "=================================================================\n",
            "Total params: 6,451,163\n",
            "Trainable params: 6,451,163\n",
            "Non-trainable params: 0\n",
            "_________________________________________________________________\n",
            "None\n",
            "Epoch 1/10\n",
            "1407/1407 [==============================] - 36s 25ms/step - loss: 2.0362 - accuracy: 0.4171 - val_loss: 1.8071 - val_accuracy: 0.4856\n",
            "Epoch 2/10\n",
            "1407/1407 [==============================] - 33s 24ms/step - loss: 1.5797 - accuracy: 0.5449 - val_loss: 1.6017 - val_accuracy: 0.5452\n",
            "Epoch 3/10\n",
            "1407/1407 [==============================] - 44s 32ms/step - loss: 1.2144 - accuracy: 0.6536 - val_loss: 1.5879 - val_accuracy: 0.5440\n",
            "Epoch 4/10\n",
            "1407/1407 [==============================] - 34s 24ms/step - loss: 0.8892 - accuracy: 0.7458 - val_loss: 1.7535 - val_accuracy: 0.5380\n",
            "Epoch 5/10\n",
            "1407/1407 [==============================] - 35s 25ms/step - loss: 0.6169 - accuracy: 0.8238 - val_loss: 2.0216 - val_accuracy: 0.5254\n",
            "Epoch 6/10\n",
            "1407/1407 [==============================] - 35s 25ms/step - loss: 0.4183 - accuracy: 0.8792 - val_loss: 2.3251 - val_accuracy: 0.5156\n",
            "1694/1694 [==============================] - 17s 10ms/step\n",
            "exited loop\n",
            "0.26275197339581924\n"
          ]
        }
      ]
    },
    {
      "cell_type": "code",
      "source": [
        "# F1 scores (without pre-processing) when dataset size is set to 30 000\n",
        "print(output(df_2,df_test,1,ground_values))\n",
        "print(output(df_2,df_test,5,ground_values))\n",
        "print(output(df_2,df_test,10,ground_values))"
      ],
      "metadata": {
        "colab": {
          "base_uri": "https://localhost:8080/"
        },
        "id": "da4FzwW-L9iU",
        "outputId": "adb3986e-fb4b-452e-db42-7846a6cc425f"
      },
      "execution_count": 11,
      "outputs": [
        {
          "output_type": "stream",
          "name": "stdout",
          "text": [
            "Model: \"sequential_3\"\n",
            "_________________________________________________________________\n",
            " Layer (type)                Output Shape              Param #   \n",
            "=================================================================\n",
            " embedding_3 (Embedding)     (None, 500, 128)          6400000   \n",
            "                                                                 \n",
            " spatial_dropout1d_3 (Spatia  (None, 500, 128)         0         \n",
            " lDropout1D)                                                     \n",
            "                                                                 \n",
            " lstm_3 (LSTM)               (None, 64)                49408     \n",
            "                                                                 \n",
            " dense_3 (Dense)             (None, 27)                1755      \n",
            "                                                                 \n",
            "=================================================================\n",
            "Total params: 6,451,163\n",
            "Trainable params: 6,451,163\n",
            "Non-trainable params: 0\n",
            "_________________________________________________________________\n",
            "None\n",
            "844/844 [==============================] - 23s 25ms/step - loss: 2.1795 - accuracy: 0.3735 - val_loss: 1.9439 - val_accuracy: 0.4493\n",
            "1694/1694 [==============================] - 17s 10ms/step\n",
            "exited loop\n",
            "0.06012759266446902\n",
            "Model: \"sequential_4\"\n",
            "_________________________________________________________________\n",
            " Layer (type)                Output Shape              Param #   \n",
            "=================================================================\n",
            " embedding_4 (Embedding)     (None, 500, 128)          6400000   \n",
            "                                                                 \n",
            " spatial_dropout1d_4 (Spatia  (None, 500, 128)         0         \n",
            " lDropout1D)                                                     \n",
            "                                                                 \n",
            " lstm_4 (LSTM)               (None, 64)                49408     \n",
            "                                                                 \n",
            " dense_4 (Dense)             (None, 27)                1755      \n",
            "                                                                 \n",
            "=================================================================\n",
            "Total params: 6,451,163\n",
            "Trainable params: 6,451,163\n",
            "Non-trainable params: 0\n",
            "_________________________________________________________________\n",
            "None\n",
            "Epoch 1/5\n",
            "844/844 [==============================] - 23s 25ms/step - loss: 2.1568 - accuracy: 0.3810 - val_loss: 1.9336 - val_accuracy: 0.4637\n",
            "Epoch 2/5\n",
            "844/844 [==============================] - 20s 24ms/step - loss: 1.7175 - accuracy: 0.5103 - val_loss: 1.7691 - val_accuracy: 0.4907\n",
            "Epoch 3/5\n",
            "844/844 [==============================] - 22s 26ms/step - loss: 1.3370 - accuracy: 0.6205 - val_loss: 1.7686 - val_accuracy: 0.5000\n",
            "Epoch 4/5\n",
            "844/844 [==============================] - 21s 24ms/step - loss: 0.9931 - accuracy: 0.7179 - val_loss: 1.8984 - val_accuracy: 0.4753\n",
            "Epoch 5/5\n",
            "844/844 [==============================] - 21s 24ms/step - loss: 0.7140 - accuracy: 0.7964 - val_loss: 2.1228 - val_accuracy: 0.4650\n",
            "1694/1694 [==============================] - 16s 9ms/step\n",
            "exited loop\n",
            "0.18503172844676324\n",
            "Model: \"sequential_5\"\n",
            "_________________________________________________________________\n",
            " Layer (type)                Output Shape              Param #   \n",
            "=================================================================\n",
            " embedding_5 (Embedding)     (None, 500, 128)          6400000   \n",
            "                                                                 \n",
            " spatial_dropout1d_5 (Spatia  (None, 500, 128)         0         \n",
            " lDropout1D)                                                     \n",
            "                                                                 \n",
            " lstm_5 (LSTM)               (None, 64)                49408     \n",
            "                                                                 \n",
            " dense_5 (Dense)             (None, 27)                1755      \n",
            "                                                                 \n",
            "=================================================================\n",
            "Total params: 6,451,163\n",
            "Trainable params: 6,451,163\n",
            "Non-trainable params: 0\n",
            "_________________________________________________________________\n",
            "None\n",
            "Epoch 1/10\n",
            "844/844 [==============================] - 23s 25ms/step - loss: 2.1805 - accuracy: 0.3743 - val_loss: 1.9399 - val_accuracy: 0.4560\n",
            "Epoch 2/10\n",
            "844/844 [==============================] - 20s 24ms/step - loss: 1.7312 - accuracy: 0.5101 - val_loss: 1.7449 - val_accuracy: 0.4930\n",
            "Epoch 3/10\n",
            "844/844 [==============================] - 21s 25ms/step - loss: 1.3328 - accuracy: 0.6179 - val_loss: 1.7373 - val_accuracy: 0.5043\n",
            "Epoch 4/10\n",
            "844/844 [==============================] - 21s 24ms/step - loss: 0.9811 - accuracy: 0.7177 - val_loss: 1.9097 - val_accuracy: 0.4757\n",
            "Epoch 5/10\n",
            "844/844 [==============================] - 21s 25ms/step - loss: 0.6854 - accuracy: 0.8016 - val_loss: 2.1960 - val_accuracy: 0.4643\n",
            "Epoch 6/10\n",
            "844/844 [==============================] - 21s 25ms/step - loss: 0.4639 - accuracy: 0.8661 - val_loss: 2.4610 - val_accuracy: 0.4603\n",
            "1694/1694 [==============================] - 18s 10ms/step\n",
            "exited loop\n",
            "0.21111599634796038\n"
          ]
        }
      ]
    },
    {
      "cell_type": "code",
      "source": [
        "# F1 scores (without pre-processing) when dataset size is set to 10 000\n",
        "print(output(df_3,df_test,1,ground_values))\n",
        "print(output(df_3,df_test,5,ground_values))\n",
        "print(output(df_3,df_test,10,ground_values))"
      ],
      "metadata": {
        "colab": {
          "base_uri": "https://localhost:8080/"
        },
        "id": "P2qc0lkuOjls",
        "outputId": "e2c473a6-e9d9-4bcc-a8e6-05bb2cde633c"
      },
      "execution_count": 15,
      "outputs": [
        {
          "output_type": "stream",
          "name": "stdout",
          "text": [
            "Model: \"sequential_12\"\n",
            "_________________________________________________________________\n",
            " Layer (type)                Output Shape              Param #   \n",
            "=================================================================\n",
            " embedding_12 (Embedding)    (None, 500, 128)          6400000   \n",
            "                                                                 \n",
            " spatial_dropout1d_12 (Spati  (None, 500, 128)         0         \n",
            " alDropout1D)                                                    \n",
            "                                                                 \n",
            " lstm_12 (LSTM)              (None, 64)                49408     \n",
            "                                                                 \n",
            " dense_12 (Dense)            (None, 27)                1755      \n",
            "                                                                 \n",
            "=================================================================\n",
            "Total params: 6,451,163\n",
            "Trainable params: 6,451,163\n",
            "Non-trainable params: 0\n",
            "_________________________________________________________________\n",
            "None\n",
            "282/282 [==============================] - 14s 43ms/step - loss: 2.4279 - accuracy: 0.2561 - val_loss: 2.2607 - val_accuracy: 0.3760\n",
            "1694/1694 [==============================] - 21s 12ms/step\n",
            "exited loop\n",
            "0.03731472389580585\n",
            "Model: \"sequential_13\"\n",
            "_________________________________________________________________\n",
            " Layer (type)                Output Shape              Param #   \n",
            "=================================================================\n",
            " embedding_13 (Embedding)    (None, 500, 128)          6400000   \n",
            "                                                                 \n",
            " spatial_dropout1d_13 (Spati  (None, 500, 128)         0         \n",
            " alDropout1D)                                                    \n",
            "                                                                 \n",
            " lstm_13 (LSTM)              (None, 64)                49408     \n",
            "                                                                 \n",
            " dense_13 (Dense)            (None, 27)                1755      \n",
            "                                                                 \n",
            "=================================================================\n",
            "Total params: 6,451,163\n",
            "Trainable params: 6,451,163\n",
            "Non-trainable params: 0\n",
            "_________________________________________________________________\n",
            "None\n",
            "Epoch 1/5\n",
            "282/282 [==============================] - 9s 26ms/step - loss: 2.4076 - accuracy: 0.2743 - val_loss: 2.2242 - val_accuracy: 0.3610\n",
            "Epoch 2/5\n",
            "282/282 [==============================] - 7s 24ms/step - loss: 2.0573 - accuracy: 0.4299 - val_loss: 1.9793 - val_accuracy: 0.4310\n",
            "Epoch 3/5\n",
            "282/282 [==============================] - 7s 24ms/step - loss: 1.6529 - accuracy: 0.5347 - val_loss: 2.0282 - val_accuracy: 0.4020\n",
            "Epoch 4/5\n",
            "282/282 [==============================] - 7s 24ms/step - loss: 1.2215 - accuracy: 0.6531 - val_loss: 2.0894 - val_accuracy: 0.4210\n",
            "Epoch 5/5\n",
            "282/282 [==============================] - 7s 24ms/step - loss: 0.8791 - accuracy: 0.7551 - val_loss: 2.3078 - val_accuracy: 0.4320\n",
            "1694/1694 [==============================] - 16s 9ms/step\n",
            "exited loop\n",
            "0.11112047343591724\n",
            "Model: \"sequential_14\"\n",
            "_________________________________________________________________\n",
            " Layer (type)                Output Shape              Param #   \n",
            "=================================================================\n",
            " embedding_14 (Embedding)    (None, 500, 128)          6400000   \n",
            "                                                                 \n",
            " spatial_dropout1d_14 (Spati  (None, 500, 128)         0         \n",
            " alDropout1D)                                                    \n",
            "                                                                 \n",
            " lstm_14 (LSTM)              (None, 64)                49408     \n",
            "                                                                 \n",
            " dense_14 (Dense)            (None, 27)                1755      \n",
            "                                                                 \n",
            "=================================================================\n",
            "Total params: 6,451,163\n",
            "Trainable params: 6,451,163\n",
            "Non-trainable params: 0\n",
            "_________________________________________________________________\n",
            "None\n",
            "Epoch 1/10\n",
            "282/282 [==============================] - 9s 26ms/step - loss: 2.4024 - accuracy: 0.2847 - val_loss: 2.1946 - val_accuracy: 0.3760\n",
            "Epoch 2/10\n",
            "282/282 [==============================] - 7s 24ms/step - loss: 2.0385 - accuracy: 0.4391 - val_loss: 1.9828 - val_accuracy: 0.4560\n",
            "Epoch 3/10\n",
            "282/282 [==============================] - 7s 24ms/step - loss: 1.6492 - accuracy: 0.5478 - val_loss: 1.9610 - val_accuracy: 0.4590\n",
            "Epoch 4/10\n",
            "282/282 [==============================] - 7s 24ms/step - loss: 1.2329 - accuracy: 0.6562 - val_loss: 2.1619 - val_accuracy: 0.4020\n",
            "Epoch 5/10\n",
            "282/282 [==============================] - 7s 24ms/step - loss: 0.9041 - accuracy: 0.7423 - val_loss: 2.2903 - val_accuracy: 0.4120\n",
            "Epoch 6/10\n",
            "282/282 [==============================] - 7s 24ms/step - loss: 0.6640 - accuracy: 0.8152 - val_loss: 2.5118 - val_accuracy: 0.3920\n",
            "Epoch 7/10\n",
            "282/282 [==============================] - 7s 24ms/step - loss: 0.4806 - accuracy: 0.8671 - val_loss: 2.7302 - val_accuracy: 0.3890\n",
            "Epoch 8/10\n",
            "282/282 [==============================] - 7s 24ms/step - loss: 0.3695 - accuracy: 0.9016 - val_loss: 2.7911 - val_accuracy: 0.4050\n",
            "Epoch 9/10\n",
            "282/282 [==============================] - 7s 24ms/step - loss: 0.2463 - accuracy: 0.9363 - val_loss: 3.0178 - val_accuracy: 0.3870\n",
            "Epoch 10/10\n",
            "282/282 [==============================] - 7s 24ms/step - loss: 0.1668 - accuracy: 0.9616 - val_loss: 3.2031 - val_accuracy: 0.4070\n",
            "1694/1694 [==============================] - 18s 10ms/step\n",
            "exited loop\n",
            "0.13383452548219726\n"
          ]
        }
      ]
    }
  ],
  "metadata": {
    "kernelspec": {
      "display_name": "Python 3.10.8 64-bit",
      "language": "python",
      "name": "python3"
    },
    "language_info": {
      "codemirror_mode": {
        "name": "ipython",
        "version": 3
      },
      "file_extension": ".py",
      "mimetype": "text/x-python",
      "name": "python",
      "nbconvert_exporter": "python",
      "pygments_lexer": "ipython3",
      "version": "3.10.8"
    },
    "orig_nbformat": 4,
    "vscode": {
      "interpreter": {
        "hash": "b0fa6594d8f4cbf19f97940f81e996739fb7646882a419484c72d19e05852a7e"
      }
    },
    "colab": {
      "provenance": []
    },
    "gpuClass": "standard",
    "accelerator": "GPU"
  },
  "nbformat": 4,
  "nbformat_minor": 0
}